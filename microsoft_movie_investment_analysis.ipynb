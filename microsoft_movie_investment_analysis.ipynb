{
 "cells": [
  {
   "cell_type": "markdown",
   "metadata": {},
   "source": [
    "![Alt Microsoft Logo](https://github.com/earlcr/Microsoft-Movie-Analysis/blob/template-mvp/images/microsoft%20logo.jpg)"
   ]
  },
  {
   "cell_type": "markdown",
   "metadata": {},
   "source": [
    "# Microsoft Movie Production Data Analysis\n",
    "\n",
    "**Author:** Earl Chirchir\n",
    "***"
   ]
  },
  {
   "cell_type": "markdown",
   "metadata": {},
   "source": [
    "## Overview\n",
    "\n",
    "Microsoft is launching a new movie studio and requires data-driven insights to inform its investment strategy. This analysis focuses on identifying patterns in historical movie data to uncover the genres, franchises, ratings, and other factors that correlate with box office success. The goal is to provide Microsoft with actionable recommendations to maximize the financial returns of its upcoming slate of films.\n",
    "\n",
    "Descriptive statistics and data visualizations are used to analyze three key datasets from IMDb and The Numbers containing movie metadata, user ratings, and box office gross revenue data. The findings indicate that movies with the Adventure, Action, and Sci-Fi genre combination consistently rank highly on revenue metrics. Developing franchises and leveraging positive user ratings also emerge as success factors.\n",
    "\n"
   ]
  },
  {
   "cell_type": "markdown",
   "metadata": {},
   "source": [
    "## Business Problem\n",
    "\n",
    "As Microsoft launches its new movie studio, the company needs to leverage data analytics to inform its multimillion dollar investment decisions on film projects. Microsoft seeks to optimize its genre selection strategy to choose movie ideas with the highest revenue potential based on historical box office data.\n",
    "\n",
    "The key questions this analysis aims to answer are:\n",
    "\n",
    "-  Based on past movies, which genres have consistently generated the highest domestic and international box office gross revenues?\n",
    "-  How do user ratings and number of votes on sites like IMDb correlate to overall financial performance for different movie genres?\n",
    "-  Can Microsoft use these genre insights to select projects with the highest probability of box office success for its upcoming slate of original films?\n",
    "\n",
    "By uncovering key patterns linking movie genres to box office results, Microsoft can develop a data-driven investment thesis for its new studio. This will help guide genre selection to maximize financial returns."
   ]
  },
  {
   "cell_type": "markdown",
   "metadata": {},
   "source": [
    "## Data Understanding\n",
    "\n",
    "The analysis uses three datasets:\n",
    "\n",
    "i) **bom.movie_gross.csv** - Contains box office revenue data for over 7,000 movies. Key variables are 'title', 'studio', 'domestic_gross', and 'foreign_gross'.  \n",
    "ii) **title.basics.csv** - Provides movie metadata like 'original_title', 'runtime_minutes', and 'genres' for over half a million titles.  \n",
    "iii) **title.ratings.csv** - Includes audience ratings data with variables like 'averagerating' and 'numvotes'.\n",
    "\n",
    "The target variable is the total box office gross revenue, calculated by summing 'domestic_gross' and 'foreign_gross'."
   ]
  },
  {
   "cell_type": "markdown",
   "metadata": {},
   "source": [
    "### Import packages"
   ]
  },
  {
   "cell_type": "code",
   "execution_count": 1,
   "metadata": {},
   "outputs": [],
   "source": [
    "import pandas as pd\n",
    "import numpy as np\n",
    "import matplotlib.pyplot as plt\n",
    "import seaborn as sns\n",
    "\n",
    "%matplotlib inline"
   ]
  },
  {
   "cell_type": "markdown",
   "metadata": {},
   "source": [
    "### Load in the dataframes"
   ]
  },
  {
   "cell_type": "code",
   "execution_count": 2,
   "metadata": {},
   "outputs": [],
   "source": [
    "gross_revenues_df = pd.read_csv('zippedData/bom.movie_gross.csv')\n",
    "movies_basic_info_df = pd.read_csv('zippedData/title.basics.csv')\n",
    "movies_ratings_df = pd.read_csv('zippedData/title.ratings.csv')"
   ]
  },
  {
   "cell_type": "markdown",
   "metadata": {},
   "source": [
    "### Explore info and top rows of each dataframe"
   ]
  },
  {
   "cell_type": "code",
   "execution_count": 3,
   "metadata": {},
   "outputs": [
    {
     "name": "stdout",
     "output_type": "stream",
     "text": [
      "<class 'pandas.core.frame.DataFrame'>\n",
      "RangeIndex: 3387 entries, 0 to 3386\n",
      "Data columns (total 5 columns):\n",
      " #   Column          Non-Null Count  Dtype  \n",
      "---  ------          --------------  -----  \n",
      " 0   title           3387 non-null   object \n",
      " 1   studio          3382 non-null   object \n",
      " 2   domestic_gross  3359 non-null   float64\n",
      " 3   foreign_gross   2037 non-null   object \n",
      " 4   year            3387 non-null   int64  \n",
      "dtypes: float64(1), int64(1), object(3)\n",
      "memory usage: 132.4+ KB\n"
     ]
    }
   ],
   "source": [
    "gross_revenues_df.info()"
   ]
  },
  {
   "cell_type": "code",
   "execution_count": 4,
   "metadata": {},
   "outputs": [
    {
     "data": {
      "text/html": [
       "<div>\n",
       "<style scoped>\n",
       "    .dataframe tbody tr th:only-of-type {\n",
       "        vertical-align: middle;\n",
       "    }\n",
       "\n",
       "    .dataframe tbody tr th {\n",
       "        vertical-align: top;\n",
       "    }\n",
       "\n",
       "    .dataframe thead th {\n",
       "        text-align: right;\n",
       "    }\n",
       "</style>\n",
       "<table border=\"1\" class=\"dataframe\">\n",
       "  <thead>\n",
       "    <tr style=\"text-align: right;\">\n",
       "      <th></th>\n",
       "      <th>title</th>\n",
       "      <th>studio</th>\n",
       "      <th>domestic_gross</th>\n",
       "      <th>foreign_gross</th>\n",
       "      <th>year</th>\n",
       "    </tr>\n",
       "  </thead>\n",
       "  <tbody>\n",
       "    <tr>\n",
       "      <th>0</th>\n",
       "      <td>Toy Story 3</td>\n",
       "      <td>BV</td>\n",
       "      <td>415000000.0</td>\n",
       "      <td>652000000</td>\n",
       "      <td>2010</td>\n",
       "    </tr>\n",
       "    <tr>\n",
       "      <th>1</th>\n",
       "      <td>Alice in Wonderland (2010)</td>\n",
       "      <td>BV</td>\n",
       "      <td>334200000.0</td>\n",
       "      <td>691300000</td>\n",
       "      <td>2010</td>\n",
       "    </tr>\n",
       "    <tr>\n",
       "      <th>2</th>\n",
       "      <td>Harry Potter and the Deathly Hallows Part 1</td>\n",
       "      <td>WB</td>\n",
       "      <td>296000000.0</td>\n",
       "      <td>664300000</td>\n",
       "      <td>2010</td>\n",
       "    </tr>\n",
       "    <tr>\n",
       "      <th>3</th>\n",
       "      <td>Inception</td>\n",
       "      <td>WB</td>\n",
       "      <td>292600000.0</td>\n",
       "      <td>535700000</td>\n",
       "      <td>2010</td>\n",
       "    </tr>\n",
       "    <tr>\n",
       "      <th>4</th>\n",
       "      <td>Shrek Forever After</td>\n",
       "      <td>P/DW</td>\n",
       "      <td>238700000.0</td>\n",
       "      <td>513900000</td>\n",
       "      <td>2010</td>\n",
       "    </tr>\n",
       "  </tbody>\n",
       "</table>\n",
       "</div>"
      ],
      "text/plain": [
       "                                         title studio  domestic_gross  \\\n",
       "0                                  Toy Story 3     BV     415000000.0   \n",
       "1                   Alice in Wonderland (2010)     BV     334200000.0   \n",
       "2  Harry Potter and the Deathly Hallows Part 1     WB     296000000.0   \n",
       "3                                    Inception     WB     292600000.0   \n",
       "4                          Shrek Forever After   P/DW     238700000.0   \n",
       "\n",
       "  foreign_gross  year  \n",
       "0     652000000  2010  \n",
       "1     691300000  2010  \n",
       "2     664300000  2010  \n",
       "3     535700000  2010  \n",
       "4     513900000  2010  "
      ]
     },
     "execution_count": 4,
     "metadata": {},
     "output_type": "execute_result"
    }
   ],
   "source": [
    "gross_revenues_df.head()"
   ]
  },
  {
   "cell_type": "code",
   "execution_count": 5,
   "metadata": {},
   "outputs": [
    {
     "name": "stdout",
     "output_type": "stream",
     "text": [
      "<class 'pandas.core.frame.DataFrame'>\n",
      "RangeIndex: 146144 entries, 0 to 146143\n",
      "Data columns (total 6 columns):\n",
      " #   Column           Non-Null Count   Dtype  \n",
      "---  ------           --------------   -----  \n",
      " 0   tconst           146144 non-null  object \n",
      " 1   primary_title    146144 non-null  object \n",
      " 2   original_title   146123 non-null  object \n",
      " 3   start_year       146144 non-null  int64  \n",
      " 4   runtime_minutes  114405 non-null  float64\n",
      " 5   genres           140736 non-null  object \n",
      "dtypes: float64(1), int64(1), object(4)\n",
      "memory usage: 6.7+ MB\n"
     ]
    }
   ],
   "source": [
    "movies_basic_info_df.info()"
   ]
  },
  {
   "cell_type": "code",
   "execution_count": 6,
   "metadata": {},
   "outputs": [
    {
     "data": {
      "text/html": [
       "<div>\n",
       "<style scoped>\n",
       "    .dataframe tbody tr th:only-of-type {\n",
       "        vertical-align: middle;\n",
       "    }\n",
       "\n",
       "    .dataframe tbody tr th {\n",
       "        vertical-align: top;\n",
       "    }\n",
       "\n",
       "    .dataframe thead th {\n",
       "        text-align: right;\n",
       "    }\n",
       "</style>\n",
       "<table border=\"1\" class=\"dataframe\">\n",
       "  <thead>\n",
       "    <tr style=\"text-align: right;\">\n",
       "      <th></th>\n",
       "      <th>tconst</th>\n",
       "      <th>primary_title</th>\n",
       "      <th>original_title</th>\n",
       "      <th>start_year</th>\n",
       "      <th>runtime_minutes</th>\n",
       "      <th>genres</th>\n",
       "    </tr>\n",
       "  </thead>\n",
       "  <tbody>\n",
       "    <tr>\n",
       "      <th>0</th>\n",
       "      <td>tt0063540</td>\n",
       "      <td>Sunghursh</td>\n",
       "      <td>Sunghursh</td>\n",
       "      <td>2013</td>\n",
       "      <td>175.0</td>\n",
       "      <td>Action,Crime,Drama</td>\n",
       "    </tr>\n",
       "    <tr>\n",
       "      <th>1</th>\n",
       "      <td>tt0066787</td>\n",
       "      <td>One Day Before the Rainy Season</td>\n",
       "      <td>Ashad Ka Ek Din</td>\n",
       "      <td>2019</td>\n",
       "      <td>114.0</td>\n",
       "      <td>Biography,Drama</td>\n",
       "    </tr>\n",
       "    <tr>\n",
       "      <th>2</th>\n",
       "      <td>tt0069049</td>\n",
       "      <td>The Other Side of the Wind</td>\n",
       "      <td>The Other Side of the Wind</td>\n",
       "      <td>2018</td>\n",
       "      <td>122.0</td>\n",
       "      <td>Drama</td>\n",
       "    </tr>\n",
       "    <tr>\n",
       "      <th>3</th>\n",
       "      <td>tt0069204</td>\n",
       "      <td>Sabse Bada Sukh</td>\n",
       "      <td>Sabse Bada Sukh</td>\n",
       "      <td>2018</td>\n",
       "      <td>NaN</td>\n",
       "      <td>Comedy,Drama</td>\n",
       "    </tr>\n",
       "    <tr>\n",
       "      <th>4</th>\n",
       "      <td>tt0100275</td>\n",
       "      <td>The Wandering Soap Opera</td>\n",
       "      <td>La Telenovela Errante</td>\n",
       "      <td>2017</td>\n",
       "      <td>80.0</td>\n",
       "      <td>Comedy,Drama,Fantasy</td>\n",
       "    </tr>\n",
       "  </tbody>\n",
       "</table>\n",
       "</div>"
      ],
      "text/plain": [
       "      tconst                    primary_title              original_title  \\\n",
       "0  tt0063540                        Sunghursh                   Sunghursh   \n",
       "1  tt0066787  One Day Before the Rainy Season             Ashad Ka Ek Din   \n",
       "2  tt0069049       The Other Side of the Wind  The Other Side of the Wind   \n",
       "3  tt0069204                  Sabse Bada Sukh             Sabse Bada Sukh   \n",
       "4  tt0100275         The Wandering Soap Opera       La Telenovela Errante   \n",
       "\n",
       "   start_year  runtime_minutes                genres  \n",
       "0        2013            175.0    Action,Crime,Drama  \n",
       "1        2019            114.0       Biography,Drama  \n",
       "2        2018            122.0                 Drama  \n",
       "3        2018              NaN          Comedy,Drama  \n",
       "4        2017             80.0  Comedy,Drama,Fantasy  "
      ]
     },
     "execution_count": 6,
     "metadata": {},
     "output_type": "execute_result"
    }
   ],
   "source": [
    "movies_basic_info_df.head()"
   ]
  },
  {
   "cell_type": "code",
   "execution_count": 7,
   "metadata": {},
   "outputs": [
    {
     "name": "stdout",
     "output_type": "stream",
     "text": [
      "<class 'pandas.core.frame.DataFrame'>\n",
      "RangeIndex: 73856 entries, 0 to 73855\n",
      "Data columns (total 3 columns):\n",
      " #   Column         Non-Null Count  Dtype  \n",
      "---  ------         --------------  -----  \n",
      " 0   tconst         73856 non-null  object \n",
      " 1   averagerating  73856 non-null  float64\n",
      " 2   numvotes       73856 non-null  int64  \n",
      "dtypes: float64(1), int64(1), object(1)\n",
      "memory usage: 1.7+ MB\n"
     ]
    }
   ],
   "source": [
    "movies_ratings_df.info()"
   ]
  },
  {
   "cell_type": "code",
   "execution_count": 8,
   "metadata": {
    "scrolled": true
   },
   "outputs": [
    {
     "data": {
      "text/html": [
       "<div>\n",
       "<style scoped>\n",
       "    .dataframe tbody tr th:only-of-type {\n",
       "        vertical-align: middle;\n",
       "    }\n",
       "\n",
       "    .dataframe tbody tr th {\n",
       "        vertical-align: top;\n",
       "    }\n",
       "\n",
       "    .dataframe thead th {\n",
       "        text-align: right;\n",
       "    }\n",
       "</style>\n",
       "<table border=\"1\" class=\"dataframe\">\n",
       "  <thead>\n",
       "    <tr style=\"text-align: right;\">\n",
       "      <th></th>\n",
       "      <th>tconst</th>\n",
       "      <th>averagerating</th>\n",
       "      <th>numvotes</th>\n",
       "    </tr>\n",
       "  </thead>\n",
       "  <tbody>\n",
       "    <tr>\n",
       "      <th>0</th>\n",
       "      <td>tt10356526</td>\n",
       "      <td>8.3</td>\n",
       "      <td>31</td>\n",
       "    </tr>\n",
       "    <tr>\n",
       "      <th>1</th>\n",
       "      <td>tt10384606</td>\n",
       "      <td>8.9</td>\n",
       "      <td>559</td>\n",
       "    </tr>\n",
       "    <tr>\n",
       "      <th>2</th>\n",
       "      <td>tt1042974</td>\n",
       "      <td>6.4</td>\n",
       "      <td>20</td>\n",
       "    </tr>\n",
       "    <tr>\n",
       "      <th>3</th>\n",
       "      <td>tt1043726</td>\n",
       "      <td>4.2</td>\n",
       "      <td>50352</td>\n",
       "    </tr>\n",
       "    <tr>\n",
       "      <th>4</th>\n",
       "      <td>tt1060240</td>\n",
       "      <td>6.5</td>\n",
       "      <td>21</td>\n",
       "    </tr>\n",
       "  </tbody>\n",
       "</table>\n",
       "</div>"
      ],
      "text/plain": [
       "       tconst  averagerating  numvotes\n",
       "0  tt10356526            8.3        31\n",
       "1  tt10384606            8.9       559\n",
       "2   tt1042974            6.4        20\n",
       "3   tt1043726            4.2     50352\n",
       "4   tt1060240            6.5        21"
      ]
     },
     "execution_count": 8,
     "metadata": {},
     "output_type": "execute_result"
    }
   ],
   "source": [
    "movies_ratings_df.head()"
   ]
  },
  {
   "cell_type": "markdown",
   "metadata": {},
   "source": [
    "## Data Preparation\n",
    "\n",
    "The steps taken to prepare the data include:\n",
    "\n",
    "i)  Dropped rows with missing 'studio' values in gross revenue data.  \n",
    "ii)  Imputed missing numeric values with median.  \n",
    "iii)  Ensured data types were appropriate for analysis.  \n",
    "iv)  Merged the 3 datasets using 'title' and 'tconst' as keys.  \n",
    "v)  Created a 'total_gross' column by summing 'domestic_gross' and 'foreign_gross'.  \n",
    "vi)  Added a column to identify franchise movies.\n",
    "\n",
    "These choices ensured complete cases for analysis, maintained data integrity, and enabled insights across multiple datasets."
   ]
  },
  {
   "cell_type": "markdown",
   "metadata": {},
   "source": [
    "### Examine missing values in each dataframe"
   ]
  },
  {
   "cell_type": "code",
   "execution_count": 9,
   "metadata": {},
   "outputs": [
    {
     "name": "stdout",
     "output_type": "stream",
     "text": [
      "title                0\n",
      "studio               5\n",
      "domestic_gross      28\n",
      "foreign_gross     1350\n",
      "year                 0\n",
      "dtype: int64\n"
     ]
    }
   ],
   "source": [
    "gross_revenues_df_missing_values_count = gross_revenues_df.isna().sum()\n",
    "print(gross_revenues_df_missing_values_count)"
   ]
  },
  {
   "cell_type": "markdown",
   "metadata": {},
   "source": [
    "### Calculate percentage and count of missing values for each column"
   ]
  },
  {
   "cell_type": "code",
   "execution_count": 10,
   "metadata": {},
   "outputs": [
    {
     "name": "stdout",
     "output_type": "stream",
     "text": [
      "Percentage of missing values in studio column: 0.15%\n",
      "Number of unique values in studio colum: 257\n",
      "Percentage of missing values in domestic_gross column: 0.83%\n",
      "Number of unique values in studio colum: 1797\n",
      "Percentage of missing values in foreign_gross column: 39.86%\n",
      "Number of unique values in studio colum: 1204\n"
     ]
    }
   ],
   "source": [
    "studio_column_missing_percentage = gross_revenues_df['studio'].isna().mean()*100\n",
    "domestic_gross_column_missing_percentage = gross_revenues_df['domestic_gross'].isna().mean()*100\n",
    "foreign_gross_column_missing_percentage = gross_revenues_df['foreign_gross'].isna().mean()*100\n",
    "\n",
    "studio_column_unique_values_count = gross_revenues_df['studio'].nunique()\n",
    "domestic_gross_column_unique_values_count = gross_revenues_df['domestic_gross'].nunique()\n",
    "foreign_gross_column_unique_values_count = gross_revenues_df['foreign_gross'].nunique()\n",
    "\n",
    "print(f'Percentage of missing values in studio column: {studio_column_missing_percentage:.2f}%')\n",
    "print(f'Number of unique values in studio colum: {studio_column_unique_values_count}')\n",
    "\n",
    "print(f'Percentage of missing values in domestic_gross column: {domestic_gross_column_missing_percentage:.2f}%')\n",
    "print(f'Number of unique values in studio colum: {domestic_gross_column_unique_values_count}')\n",
    "\n",
    "print(f'Percentage of missing values in foreign_gross column: {foreign_gross_column_missing_percentage:.2f}%')\n",
    "print(f'Number of unique values in studio colum: {foreign_gross_column_unique_values_count}')"
   ]
  },
  {
   "cell_type": "markdown",
   "metadata": {},
   "source": [
    "### Repeat missing value examination for other dataframes"
   ]
  },
  {
   "cell_type": "code",
   "execution_count": 11,
   "metadata": {},
   "outputs": [
    {
     "name": "stdout",
     "output_type": "stream",
     "text": [
      "tconst                 0\n",
      "primary_title          0\n",
      "original_title        21\n",
      "start_year             0\n",
      "runtime_minutes    31739\n",
      "genres              5408\n",
      "dtype: int64\n"
     ]
    }
   ],
   "source": [
    "movies_basic_info_df_missing_values_count = movies_basic_info_df.isna().sum()\n",
    "print(movies_basic_info_df_missing_values_count)"
   ]
  },
  {
   "cell_type": "code",
   "execution_count": 12,
   "metadata": {},
   "outputs": [
    {
     "name": "stdout",
     "output_type": "stream",
     "text": [
      "Percentage of missing values in original_title column: 0.01%\n",
      "Number of unique values in original_title column: 137773\n",
      "Percentage of missing values in runtime_minutes column: 21.72%\n",
      "Number of unique values in runtime_minutes column: 367\n",
      "Percentage of missing values in genres column: 3.70%\n",
      "Number of unique values in genres column: 1085\n"
     ]
    }
   ],
   "source": [
    "original_title_column_missing_percentage = movies_basic_info_df['original_title'].isna().mean()*100\n",
    "runtime_minutes_column_missing_percentage = movies_basic_info_df['runtime_minutes'].isna().mean()*100\n",
    "genres_column_missing_percentage = movies_basic_info_df['genres'].isna().mean()*100\n",
    "\n",
    "original_title_column_unique_values_count = movies_basic_info_df['original_title'].nunique()\n",
    "runtime_minutes_column_unique_values_count = movies_basic_info_df['runtime_minutes'].nunique()\n",
    "genres_column_title_unique_values_count = movies_basic_info_df['genres'].nunique()\n",
    "\n",
    "print(f'Percentage of missing values in original_title column: {original_title_column_missing_percentage:.2f}%')\n",
    "print(f'Number of unique values in original_title column: {original_title_column_unique_values_count}')\n",
    "\n",
    "print(f'Percentage of missing values in runtime_minutes column: {runtime_minutes_column_missing_percentage:.2f}%')\n",
    "print(f'Number of unique values in runtime_minutes column: {runtime_minutes_column_unique_values_count}')\n",
    "\n",
    "print(f'Percentage of missing values in genres column: {genres_column_missing_percentage:.2f}%')\n",
    "print(f'Number of unique values in genres column: {genres_column_title_unique_values_count}')"
   ]
  },
  {
   "cell_type": "code",
   "execution_count": 13,
   "metadata": {},
   "outputs": [
    {
     "name": "stdout",
     "output_type": "stream",
     "text": [
      "tconst           0\n",
      "averagerating    0\n",
      "numvotes         0\n",
      "dtype: int64\n"
     ]
    }
   ],
   "source": [
    "movies_ratings_df_missing_values = movies_ratings_df.isna().sum()\n",
    "print(movies_ratings_df_missing_values)"
   ]
  },
  {
   "cell_type": "markdown",
   "metadata": {},
   "source": [
    "# Data Cleaning"
   ]
  },
  {
   "cell_type": "markdown",
   "metadata": {},
   "source": [
    "### Cleaning steps for gross revenue dataframe"
   ]
  },
  {
   "cell_type": "code",
   "execution_count": 14,
   "metadata": {},
   "outputs": [],
   "source": [
    "# For gross_revenues_df\n",
    "# Drop rows with missing 'studio'\n",
    "gross_revenues_df.dropna(subset=['studio'], inplace=True)"
   ]
  },
  {
   "cell_type": "code",
   "execution_count": 15,
   "metadata": {},
   "outputs": [
    {
     "name": "stdout",
     "output_type": "stream",
     "text": [
      "1400000.0\n"
     ]
    }
   ],
   "source": [
    "# Impute 'domestic_gross' with the median\n",
    "median_domestic_gross = gross_revenues_df['domestic_gross'].median()\n",
    "gross_revenues_df['domestic_gross'].fillna(median_domestic_gross, inplace=True)\n",
    "print(median_domestic_gross)"
   ]
  },
  {
   "cell_type": "code",
   "execution_count": 16,
   "metadata": {},
   "outputs": [
    {
     "name": "stdout",
     "output_type": "stream",
     "text": [
      "0       415000000.0\n",
      "1       334200000.0\n",
      "2       296000000.0\n",
      "3       292600000.0\n",
      "4       238700000.0\n",
      "           ...     \n",
      "3382         6200.0\n",
      "3383         4800.0\n",
      "3384         2500.0\n",
      "3385         2400.0\n",
      "3386         1700.0\n",
      "Name: domestic_gross, Length: 3382, dtype: float64\n"
     ]
    }
   ],
   "source": [
    "cleaned_domestic_gross = gross_revenues_df['domestic_gross']\n",
    "print(cleaned_domestic_gross)"
   ]
  },
  {
   "cell_type": "code",
   "execution_count": 17,
   "metadata": {},
   "outputs": [
    {
     "name": "stdout",
     "output_type": "stream",
     "text": [
      "18700000.0\n"
     ]
    }
   ],
   "source": [
    "# Ensure the 'foreign_gross' column is of type string\n",
    "gross_revenues_df['foreign_gross'] = gross_revenues_df['foreign_gross'].astype(str)\n",
    "\n",
    "# Remove commas and convert 'foreign_gross' to numeric\n",
    "gross_revenues_df['foreign_gross'] = gross_revenues_df['foreign_gross'].str.replace(',', '').astype(float)\n",
    "\n",
    "# Impute 'foreign_gross' with the median\n",
    "median_foreign_gross = gross_revenues_df['foreign_gross'].median()\n",
    "gross_revenues_df['foreign_gross'].fillna(median_foreign_gross, inplace=True)\n",
    "\n",
    "print(median_foreign_gross)\n"
   ]
  },
  {
   "cell_type": "code",
   "execution_count": 18,
   "metadata": {},
   "outputs": [
    {
     "name": "stdout",
     "output_type": "stream",
     "text": [
      "0       652000000.0\n",
      "1       691300000.0\n",
      "2       664300000.0\n",
      "3       535700000.0\n",
      "4       513900000.0\n",
      "           ...     \n",
      "3382     18700000.0\n",
      "3383     18700000.0\n",
      "3384     18700000.0\n",
      "3385     18700000.0\n",
      "3386     18700000.0\n",
      "Name: foreign_gross, Length: 3382, dtype: float64\n"
     ]
    }
   ],
   "source": [
    "cleaned_foreign_gross = gross_revenues_df['foreign_gross']\n",
    "print(cleaned_foreign_gross)"
   ]
  },
  {
   "cell_type": "code",
   "execution_count": 19,
   "metadata": {},
   "outputs": [
    {
     "name": "stdout",
     "output_type": "stream",
     "text": [
      "Missing values in gross_revenues_df:\n",
      "title             0\n",
      "studio            0\n",
      "domestic_gross    0\n",
      "foreign_gross     0\n",
      "year              0\n",
      "dtype: int64\n"
     ]
    }
   ],
   "source": [
    "# For gross_revenues_df\n",
    "gross_revenues_df_missing_values_count = gross_revenues_df.isna().sum()\n",
    "print(\"Missing values in gross_revenues_df:\")\n",
    "print(gross_revenues_df_missing_values_count)"
   ]
  },
  {
   "cell_type": "markdown",
   "metadata": {},
   "source": [
    "### Cleaning steps for basics dataframe\n"
   ]
  },
  {
   "cell_type": "code",
   "execution_count": 20,
   "metadata": {},
   "outputs": [],
   "source": [
    "# Drop rows with missing 'original_title' since the percentage is extremely low\n",
    "movies_basic_info_df.dropna(subset=['original_title'], inplace=True)"
   ]
  },
  {
   "cell_type": "code",
   "execution_count": 21,
   "metadata": {},
   "outputs": [
    {
     "name": "stdout",
     "output_type": "stream",
     "text": [
      "87.0\n"
     ]
    }
   ],
   "source": [
    "# Impute 'runtime_minutes' with the median\n",
    "median_runtime_minutes = movies_basic_info_df['runtime_minutes'].median()\n",
    "movies_basic_info_df['runtime_minutes'].fillna(median_runtime_minutes, inplace=True)\n",
    "print(median_runtime_minutes)"
   ]
  },
  {
   "cell_type": "code",
   "execution_count": 22,
   "metadata": {},
   "outputs": [],
   "source": [
    "# Impute 'genres' with the mode value\n",
    "mode_genres = movies_basic_info_df['genres'].mode().iloc[0]\n",
    "movies_basic_info_df['genres'].fillna(mode_genres, inplace=True)"
   ]
  },
  {
   "cell_type": "code",
   "execution_count": 23,
   "metadata": {
    "scrolled": true
   },
   "outputs": [
    {
     "name": "stdout",
     "output_type": "stream",
     "text": [
      "Missing values in movies_basic_info_df:\n",
      "tconst             0\n",
      "primary_title      0\n",
      "original_title     0\n",
      "start_year         0\n",
      "runtime_minutes    0\n",
      "genres             0\n",
      "dtype: int64\n"
     ]
    }
   ],
   "source": [
    "# For movies_basic_info_df\n",
    "movies_basic_info_df_missing_values_count = movies_basic_info_df.isna().sum()\n",
    "print(\"Missing values in movies_basic_info_df:\")\n",
    "print(movies_basic_info_df_missing_values_count)"
   ]
  },
  {
   "cell_type": "markdown",
   "metadata": {},
   "source": [
    "# Data Merging"
   ]
  },
  {
   "cell_type": "code",
   "execution_count": 24,
   "metadata": {},
   "outputs": [],
   "source": [
    "# Merge the 'basics' and 'ratings' DataFrames using 'tconst' as the common key\n",
    "combined_data = movies_basic_info_df.merge(movies_ratings_df, on='tconst', how='inner')"
   ]
  },
  {
   "cell_type": "code",
   "execution_count": 25,
   "metadata": {},
   "outputs": [],
   "source": [
    "# Merge the 'gross' DataFrame with the combined DataFrame using 'title' as the common key\n",
    "final_data = gross_revenues_df.merge(combined_data, left_on='title', right_on='primary_title', how='inner')"
   ]
  },
  {
   "cell_type": "code",
   "execution_count": 26,
   "metadata": {},
   "outputs": [
    {
     "name": "stdout",
     "output_type": "stream",
     "text": [
      "<class 'pandas.core.frame.DataFrame'>\n",
      "Int64Index: 3024 entries, 0 to 3023\n",
      "Data columns (total 13 columns):\n",
      " #   Column           Non-Null Count  Dtype  \n",
      "---  ------           --------------  -----  \n",
      " 0   title            3024 non-null   object \n",
      " 1   studio           3024 non-null   object \n",
      " 2   domestic_gross   3024 non-null   float64\n",
      " 3   foreign_gross    3024 non-null   float64\n",
      " 4   year             3024 non-null   int64  \n",
      " 5   tconst           3024 non-null   object \n",
      " 6   primary_title    3024 non-null   object \n",
      " 7   original_title   3024 non-null   object \n",
      " 8   start_year       3024 non-null   int64  \n",
      " 9   runtime_minutes  3024 non-null   float64\n",
      " 10  genres           3024 non-null   object \n",
      " 11  averagerating    3024 non-null   float64\n",
      " 12  numvotes         3024 non-null   int64  \n",
      "dtypes: float64(4), int64(3), object(6)\n",
      "memory usage: 330.8+ KB\n"
     ]
    }
   ],
   "source": [
    "# Display the information about the final merged DataFrame\n",
    "final_data.info()"
   ]
  },
  {
   "cell_type": "code",
   "execution_count": 27,
   "metadata": {},
   "outputs": [
    {
     "data": {
      "text/html": [
       "<div>\n",
       "<style scoped>\n",
       "    .dataframe tbody tr th:only-of-type {\n",
       "        vertical-align: middle;\n",
       "    }\n",
       "\n",
       "    .dataframe tbody tr th {\n",
       "        vertical-align: top;\n",
       "    }\n",
       "\n",
       "    .dataframe thead th {\n",
       "        text-align: right;\n",
       "    }\n",
       "</style>\n",
       "<table border=\"1\" class=\"dataframe\">\n",
       "  <thead>\n",
       "    <tr style=\"text-align: right;\">\n",
       "      <th></th>\n",
       "      <th>title</th>\n",
       "      <th>studio</th>\n",
       "      <th>domestic_gross</th>\n",
       "      <th>foreign_gross</th>\n",
       "      <th>year</th>\n",
       "      <th>tconst</th>\n",
       "      <th>primary_title</th>\n",
       "      <th>original_title</th>\n",
       "      <th>start_year</th>\n",
       "      <th>runtime_minutes</th>\n",
       "      <th>genres</th>\n",
       "      <th>averagerating</th>\n",
       "      <th>numvotes</th>\n",
       "    </tr>\n",
       "  </thead>\n",
       "  <tbody>\n",
       "    <tr>\n",
       "      <th>0</th>\n",
       "      <td>Toy Story 3</td>\n",
       "      <td>BV</td>\n",
       "      <td>415000000.0</td>\n",
       "      <td>652000000.0</td>\n",
       "      <td>2010</td>\n",
       "      <td>tt0435761</td>\n",
       "      <td>Toy Story 3</td>\n",
       "      <td>Toy Story 3</td>\n",
       "      <td>2010</td>\n",
       "      <td>103.0</td>\n",
       "      <td>Adventure,Animation,Comedy</td>\n",
       "      <td>8.3</td>\n",
       "      <td>682218</td>\n",
       "    </tr>\n",
       "    <tr>\n",
       "      <th>1</th>\n",
       "      <td>Inception</td>\n",
       "      <td>WB</td>\n",
       "      <td>292600000.0</td>\n",
       "      <td>535700000.0</td>\n",
       "      <td>2010</td>\n",
       "      <td>tt1375666</td>\n",
       "      <td>Inception</td>\n",
       "      <td>Inception</td>\n",
       "      <td>2010</td>\n",
       "      <td>148.0</td>\n",
       "      <td>Action,Adventure,Sci-Fi</td>\n",
       "      <td>8.8</td>\n",
       "      <td>1841066</td>\n",
       "    </tr>\n",
       "    <tr>\n",
       "      <th>2</th>\n",
       "      <td>Shrek Forever After</td>\n",
       "      <td>P/DW</td>\n",
       "      <td>238700000.0</td>\n",
       "      <td>513900000.0</td>\n",
       "      <td>2010</td>\n",
       "      <td>tt0892791</td>\n",
       "      <td>Shrek Forever After</td>\n",
       "      <td>Shrek Forever After</td>\n",
       "      <td>2010</td>\n",
       "      <td>93.0</td>\n",
       "      <td>Adventure,Animation,Comedy</td>\n",
       "      <td>6.3</td>\n",
       "      <td>167532</td>\n",
       "    </tr>\n",
       "    <tr>\n",
       "      <th>3</th>\n",
       "      <td>The Twilight Saga: Eclipse</td>\n",
       "      <td>Sum.</td>\n",
       "      <td>300500000.0</td>\n",
       "      <td>398000000.0</td>\n",
       "      <td>2010</td>\n",
       "      <td>tt1325004</td>\n",
       "      <td>The Twilight Saga: Eclipse</td>\n",
       "      <td>The Twilight Saga: Eclipse</td>\n",
       "      <td>2010</td>\n",
       "      <td>124.0</td>\n",
       "      <td>Adventure,Drama,Fantasy</td>\n",
       "      <td>5.0</td>\n",
       "      <td>211733</td>\n",
       "    </tr>\n",
       "    <tr>\n",
       "      <th>4</th>\n",
       "      <td>Iron Man 2</td>\n",
       "      <td>Par.</td>\n",
       "      <td>312400000.0</td>\n",
       "      <td>311500000.0</td>\n",
       "      <td>2010</td>\n",
       "      <td>tt1228705</td>\n",
       "      <td>Iron Man 2</td>\n",
       "      <td>Iron Man 2</td>\n",
       "      <td>2010</td>\n",
       "      <td>124.0</td>\n",
       "      <td>Action,Adventure,Sci-Fi</td>\n",
       "      <td>7.0</td>\n",
       "      <td>657690</td>\n",
       "    </tr>\n",
       "  </tbody>\n",
       "</table>\n",
       "</div>"
      ],
      "text/plain": [
       "                        title studio  domestic_gross  foreign_gross  year  \\\n",
       "0                 Toy Story 3     BV     415000000.0    652000000.0  2010   \n",
       "1                   Inception     WB     292600000.0    535700000.0  2010   \n",
       "2         Shrek Forever After   P/DW     238700000.0    513900000.0  2010   \n",
       "3  The Twilight Saga: Eclipse   Sum.     300500000.0    398000000.0  2010   \n",
       "4                  Iron Man 2   Par.     312400000.0    311500000.0  2010   \n",
       "\n",
       "      tconst               primary_title              original_title  \\\n",
       "0  tt0435761                 Toy Story 3                 Toy Story 3   \n",
       "1  tt1375666                   Inception                   Inception   \n",
       "2  tt0892791         Shrek Forever After         Shrek Forever After   \n",
       "3  tt1325004  The Twilight Saga: Eclipse  The Twilight Saga: Eclipse   \n",
       "4  tt1228705                  Iron Man 2                  Iron Man 2   \n",
       "\n",
       "   start_year  runtime_minutes                      genres  averagerating  \\\n",
       "0        2010            103.0  Adventure,Animation,Comedy            8.3   \n",
       "1        2010            148.0     Action,Adventure,Sci-Fi            8.8   \n",
       "2        2010             93.0  Adventure,Animation,Comedy            6.3   \n",
       "3        2010            124.0     Adventure,Drama,Fantasy            5.0   \n",
       "4        2010            124.0     Action,Adventure,Sci-Fi            7.0   \n",
       "\n",
       "   numvotes  \n",
       "0    682218  \n",
       "1   1841066  \n",
       "2    167532  \n",
       "3    211733  \n",
       "4    657690  "
      ]
     },
     "execution_count": 27,
     "metadata": {},
     "output_type": "execute_result"
    }
   ],
   "source": [
    "final_data.head()"
   ]
  },
  {
   "cell_type": "code",
   "execution_count": 28,
   "metadata": {},
   "outputs": [],
   "source": [
    "# Extract the csv for the merged datasets \n",
    "final_data.to_csv('zippedData/merged_data.csv', index=False)"
   ]
  },
  {
   "cell_type": "markdown",
   "metadata": {},
   "source": [
    "# Feature Engineering"
   ]
  },
  {
   "cell_type": "markdown",
   "metadata": {},
   "source": [
    "### Create total gross column"
   ]
  },
  {
   "cell_type": "code",
   "execution_count": 29,
   "metadata": {},
   "outputs": [
    {
     "name": "stdout",
     "output_type": "stream",
     "text": [
      "                        title studio  domestic_gross  foreign_gross  year  \\\n",
      "0                 Toy Story 3     BV     415000000.0    652000000.0  2010   \n",
      "1                   Inception     WB     292600000.0    535700000.0  2010   \n",
      "2         Shrek Forever After   P/DW     238700000.0    513900000.0  2010   \n",
      "3  The Twilight Saga: Eclipse   Sum.     300500000.0    398000000.0  2010   \n",
      "4                  Iron Man 2   Par.     312400000.0    311500000.0  2010   \n",
      "\n",
      "      tconst               primary_title              original_title  \\\n",
      "0  tt0435761                 Toy Story 3                 Toy Story 3   \n",
      "1  tt1375666                   Inception                   Inception   \n",
      "2  tt0892791         Shrek Forever After         Shrek Forever After   \n",
      "3  tt1325004  The Twilight Saga: Eclipse  The Twilight Saga: Eclipse   \n",
      "4  tt1228705                  Iron Man 2                  Iron Man 2   \n",
      "\n",
      "   start_year  runtime_minutes                      genres  averagerating  \\\n",
      "0        2010            103.0  Adventure,Animation,Comedy            8.3   \n",
      "1        2010            148.0     Action,Adventure,Sci-Fi            8.8   \n",
      "2        2010             93.0  Adventure,Animation,Comedy            6.3   \n",
      "3        2010            124.0     Adventure,Drama,Fantasy            5.0   \n",
      "4        2010            124.0     Action,Adventure,Sci-Fi            7.0   \n",
      "\n",
      "   numvotes   total_gross  \n",
      "0    682218  1.067000e+09  \n",
      "1   1841066  8.283000e+08  \n",
      "2    167532  7.526000e+08  \n",
      "3    211733  6.985000e+08  \n",
      "4    657690  6.239000e+08  \n"
     ]
    }
   ],
   "source": [
    "# Create a new column 'total_gross' by adding 'domestic_gross' and 'foreign_gross'\n",
    "final_data['total_gross'] = final_data['domestic_gross'] + final_data['foreign_gross']\n",
    "\n",
    "# Display the updated DataFrame with the 'total_gross' column\n",
    "print(final_data.head())\n"
   ]
  },
  {
   "cell_type": "markdown",
   "metadata": {},
   "source": [
    "### Analyze data"
   ]
  },
  {
   "cell_type": "code",
   "execution_count": 30,
   "metadata": {},
   "outputs": [
    {
     "name": "stdout",
     "output_type": "stream",
     "text": [
      "Genres with the highest average gross revenue:\n",
      "Genre: Adventure,Drama,Sport\n",
      "Average Gross Revenue: $1276400000.00\n",
      "\n",
      "Genre: Adventure,Fantasy\n",
      "Average Gross Revenue: $704033333.00\n",
      "\n",
      "Genre: Fantasy,Romance\n",
      "Average Gross Revenue: $659021500.00\n",
      "\n"
     ]
    }
   ],
   "source": [
    "# Calculate average gross revenue by genre\n",
    "genre_avg_gross = final_data.groupby('genres')['total_gross'].mean().sort_values(ascending=False)\n",
    "\n",
    "# Display genres with the highest average gross revenue\n",
    "top_grossing_genres = genre_avg_gross.head(3)\n",
    "\n",
    "print(\"Genres with the highest average gross revenue:\")\n",
    "for genre, gross in top_grossing_genres.items():\n",
    "    print(f\"Genre: {genre}\")\n",
    "    print(f\"Average Gross Revenue: ${gross:.2f}\\n\")\n",
    "\n"
   ]
  },
  {
   "cell_type": "code",
   "execution_count": 31,
   "metadata": {},
   "outputs": [
    {
     "name": "stdout",
     "output_type": "stream",
     "text": [
      "Average Gross Revenue for Movies:\n",
      "In a Franchise: $79,157,569.29\n",
      "Not in a Franchise: $27,210,373.40\n"
     ]
    }
   ],
   "source": [
    "# Create a column to identify movies that are part of a franchise\n",
    "final_data['is_franchise'] = final_data['title'].str.contains(':')\n",
    "\n",
    "# Calculate average gross revenue for movies in and not in a franchise\n",
    "franchise_avg_gross = final_data.groupby('is_franchise')['domestic_gross'].mean()\n",
    "\n",
    "# Display the results with clear labels\n",
    "print(\"Average Gross Revenue for Movies:\")\n",
    "print(f\"In a Franchise: ${franchise_avg_gross[True]:,.2f}\")\n",
    "print(f\"Not in a Franchise: ${franchise_avg_gross[False]:,.2f}\")\n"
   ]
  },
  {
   "cell_type": "markdown",
   "metadata": {},
   "source": [
    "## Data Modeling\n",
    "The data was analyzed using:\n",
    "\n",
    "i)  Descriptive statistics like mean and median to summarize revenue patterns.  \n",
    "ii)  Data visualization techniques like bar charts and scatterplots to identify trends and relationships.\n",
    "\n",
    "Key plots included:\n",
    "\n",
    "i)  Average gross revenue for top genres.  \n",
    "ii)  Franchise vs non-franchise average gross revenue.  \n",
    "iii)  Scatterplot of ratings, votes, and high revenue.  \n",
    "iv)  Visualizations provided clear insights into factors correlated with box office success."
   ]
  },
  {
   "cell_type": "markdown",
   "metadata": {},
   "source": [
    "### Visualize data"
   ]
  },
  {
   "cell_type": "code",
   "execution_count": 32,
   "metadata": {},
   "outputs": [
    {
     "data": {
      "image/png": "[encoded data removed]",
      "text/plain": [
       "<Figure size 720x432 with 1 Axes>"
      ]
     },
     "metadata": {
      "needs_background": "light"
     },
     "output_type": "display_data"
    }
   ],
   "source": [
    "# Calculate average gross revenue by genre\n",
    "genre_avg_gross = final_data.groupby('genres')['total_gross'].mean().sort_values(ascending=False)\n",
    "\n",
    "# Select the top genres (you can choose the number of top genres you want to display)\n",
    "top_genres = genre_avg_gross.head(10)\n",
    "\n",
    "# Create the bar chart\n",
    "plt.figure(figsize=(10, 6))\n",
    "plt.barh(top_genres.index, top_genres.values, color='skyblue')\n",
    "plt.xlabel('Average Gross Revenue')\n",
    "plt.ylabel('Genres')\n",
    "plt.title('Average Gross Revenue by Genre')\n",
    "plt.gca().invert_yaxis()  # Reverse the order to display the highest grossing genre at the top\n",
    "plt.show()\n"
   ]
  },
  {
   "cell_type": "code",
   "execution_count": 34,
   "metadata": {},
   "outputs": [
    {
     "data": {
      "image/png": "[encoded data removed]",
      "text/plain": [
       "<Figure size 576x432 with 1 Axes>"
      ]
     },
     "metadata": {
      "needs_background": "light"
     },
     "output_type": "display_data"
    }
   ],
   "source": [
    "import matplotlib.pyplot as plt\n",
    "\n",
    "# Group data by whether the movie is part of a franchise\n",
    "franchise_avg_gross = final_data.groupby('is_franchise')['total_gross'].mean()\n",
    "\n",
    "# Create a grouped bar chart\n",
    "plt.figure(figsize=(8, 6))\n",
    "franchise_avg_gross.plot(kind='bar', color=['blue', 'orange'])\n",
    "plt.xlabel('Franchise')\n",
    "plt.ylabel('Average Total Gross Revenue')\n",
    "plt.title('Average Gross Revenue for Movies in and Not in Franchises')\n",
    "plt.xticks([0, 1], ['Not in Franchise', 'In Franchise'], rotation=0)\n",
    "plt.grid(axis='y', linestyle='--', alpha=0.7)\n",
    "\n",
    "plt.show()\n"
   ]
  },
  {
   "cell_type": "code",
   "execution_count": 35,
   "metadata": {},
   "outputs": [
    {
     "data": {
      "image/png": "[encoded data removed]",
      "text/plain": [
       "<Figure size 720x576 with 1 Axes>"
      ]
     },
     "metadata": {
      "needs_background": "light"
     },
     "output_type": "display_data"
    }
   ],
   "source": [
    "# Define a threshold for high-grossing movies\n",
    "high_gross_threshold = 500_000_000\n",
    "\n",
    "# Create a scatter plot\n",
    "plt.figure(figsize=(10, 8))\n",
    "sns.scatterplot(data=final_data, x='averagerating', y='numvotes', hue=final_data['total_gross'] >= high_gross_threshold, palette=['blue', 'red'], alpha=0.6, s=80)\n",
    "plt.xlabel('Average Ratings')\n",
    "plt.ylabel('Number of Votes')\n",
    "plt.title('Relationship between Ratings, Votes, and Gross Revenue')\n",
    "plt.grid(True, linestyle='--', alpha=0.6)\n",
    "\n",
    "# Customize the legend\n",
    "plt.legend(title='High Grossing', loc='upper right')\n",
    "plt.show()\n"
   ]
  },
  {
   "cell_type": "markdown",
   "metadata": {},
   "source": [
    "## Evaluation\n",
    "\n",
    "The techniques effectively identified actionable patterns in the data. The focus on descriptive statistics and visualizations was appropriate given the goal of extracting insights rather than predicting outcomes.  \n",
    "\n",
    "\n",
    "The analysis identified the **highest-grossing genres, the significance of franchises, and the impact of ratings and votes** on a movie's box office success.\n",
    "The recommendations provide actionable insights for Microsoft, suggesting that focusing on Adventure, Animation, and Action genres, investing in franchises, and prioritizing quality ratings and engagement with the audience are key strategies.\n",
    "\n",
    "The recommendations are founded on industry trends and data insights, making them relevant for Microsoft's decision-making process. By following these recommendations, Microsoft's new movie studio can increase its chances of producing successful and profitable films, potentially optimizing its return on investment.\n",
    "\n",
    "Next steps could include forecast modeling to predict revenues and refine recommendations further as more data becomes available."
   ]
  },
  {
   "cell_type": "markdown",
   "metadata": {},
   "source": [
    "## Conclusions\n",
    "\n",
    "Based on this analysis, the following recommendations are provided:\n",
    "\n",
    "**i)  Focus on High Grossing Genres:** The data analysis suggests that genres like Adventure, Animation, and Action have consistently been the highest-grossing at the box office. Movies like 'Toy Story 3' and 'Inception' have been exceptionally successful in these genres, appealing to a broad audience. Therefore, Microsoft should consider prioritizing movie projects in these genres to maximize their chances of higher returns on investment.\n",
    "\n",
    "**ii)  Invest in Franchises:** The analysis indicates that franchises like 'Star Wars,' 'Spider-Man,' and 'Jurassic Park' have consistently performed well in terms of box office revenue. This suggests that audiences have a strong affinity for sequels and stories with familiar characters and narratives. Microsoft should explore the development of movie franchises to establish a dependable stream of revenue while also keeping audiences engaged.\n",
    "\n",
    "**iii)  Consider the Impact of Ratings and Votes:** Movies with higher average ratings and a substantial number of votes tend to perform better at the box office. For example, 'Inception' garnered high ratings and a significant number of votes, contributing to its commercial success. Therefore, Microsoft should prioritize producing high-quality films that engage and resonate with audiences, potentially leading to better financial outcomes.\n",
    "\n",
    "The analysis has some limitations based on data completeness and recency. As the studio matures, Microsoft should revisit these findings against new movies and updated industry data. Annual refreshes would ensure recommendations remain relevant.\n",
    "\n",
    "By targeting proven high-grossing genres, leveraging franchises, and promoting quality films, Microsoft can make data-driven decisions for its movie investments. This will lead to profitable projects that resonate with audiences."
   ]
  }
 ],
 "metadata": {
  "kernelspec": {
   "display_name": "Python 3",
   "language": "python",
   "name": "python3"
  },
  "language_info": {
   "codemirror_mode": {
    "name": "ipython",
    "version": 3
   },
   "file_extension": ".py",
   "mimetype": "text/x-python",
   "name": "python",
   "nbconvert_exporter": "python",
   "pygments_lexer": "ipython3",
   "version": "3.8.5"
  }
 },
 "nbformat": 4,
 "nbformat_minor": 4
}
